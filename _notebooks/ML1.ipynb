{
 "metadata": {
  "language_info": {
   "codemirror_mode": {
    "name": "ipython",
    "version": 3
   },
   "file_extension": ".py",
   "mimetype": "text/x-python",
   "name": "python",
   "nbconvert_exporter": "python",
   "pygments_lexer": "ipython3",
   "version": "3.9.5"
  },
  "orig_nbformat": 4,
  "kernelspec": {
   "name": "python3",
   "display_name": "Python 3.9.5 64-bit"
  },
  "interpreter": {
   "hash": "29dc285e4d70f6c16ebdeac91f48d4d71129db85c7f69c84447cdceb283d8749"
  }
 },
 "nbformat": 4,
 "nbformat_minor": 2,
 "cells": [
  {
   "cell_type": "code",
   "execution_count": 2,
   "metadata": {},
   "outputs": [],
   "source": [
    "%load_ext autoreload\n",
    "%autoreload 2\n",
    "%matplotlib inline\n",
    "\n",
    "\n"
   ]
  },
  {
   "cell_type": "code",
   "execution_count": 70,
   "metadata": {},
   "outputs": [],
   "source": [
    "# fastai.__version__"
   ]
  },
  {
   "cell_type": "code",
   "execution_count": 3,
   "metadata": {},
   "outputs": [],
   "source": [
    "\n",
    "from fastai.imports import *\n",
    "from fastai.tabular  import *\n",
    "import fastai.tabular.core \n",
    "from fastai.data.all import *\n",
    "\n",
    "\n",
    "import fastai.torch_core\n",
    "\n",
    "from pandas_summary import DataFrameSummary\n",
    "from sklearn.ensemble import RandomForestRegressor, RandomForestClassifier\n",
    "from IPython.display import display\n",
    "\n",
    "from sklearn import metrics\n",
    "\n",
    "from pandas import DatetimeIndex\n",
    "\n"
   ]
  },
  {
   "cell_type": "code",
   "execution_count": 4,
   "metadata": {},
   "outputs": [],
   "source": [
    "\n",
    "%load \"fastai/structured.py\"\n",
    "%run \"fastai/structured.py\"\n"
   ]
  },
  {
   "cell_type": "code",
   "execution_count": 5,
   "metadata": {},
   "outputs": [],
   "source": [
    "PATH = \"data/bulldozers/\""
   ]
  },
  {
   "cell_type": "code",
   "execution_count": 74,
   "metadata": {},
   "outputs": [
    {
     "output_type": "execute_result",
     "data": {
      "text/plain": [
       "{'data/bulldozers/'}"
      ]
     },
     "metadata": {},
     "execution_count": 74
    }
   ],
   "source": [
    "{PATH}"
   ]
  },
  {
   "cell_type": "code",
   "execution_count": 6,
   "metadata": {},
   "outputs": [],
   "source": [
    "df_raw = pd.read_csv(f'{PATH}Train.csv',low_memory=False,parse_dates=[\"saledate\"])"
   ]
  },
  {
   "cell_type": "code",
   "execution_count": 76,
   "metadata": {},
   "outputs": [
    {
     "output_type": "execute_result",
     "data": {
      "text/plain": [
       "        SalesID  SalePrice  MachineID  ModelID  datasource  auctioneerID  \\\n",
       "0       1139246      66000     999089     3157         121           3.0   \n",
       "1       1139248      57000     117657       77         121           3.0   \n",
       "2       1139249      10000     434808     7009         121           3.0   \n",
       "3       1139251      38500    1026470      332         121           3.0   \n",
       "4       1139253      11000    1057373    17311         121           3.0   \n",
       "...         ...        ...        ...      ...         ...           ...   \n",
       "401120  6333336      10500    1840702    21439         149           1.0   \n",
       "401121  6333337      11000    1830472    21439         149           1.0   \n",
       "401122  6333338      11500    1887659    21439         149           1.0   \n",
       "401123  6333341       9000    1903570    21435         149           2.0   \n",
       "401124  6333342       7750    1926965    21435         149           2.0   \n",
       "\n",
       "        YearMade  MachineHoursCurrentMeter UsageBand   saledate  ...  \\\n",
       "0           2004                      68.0       Low 2006-11-16  ...   \n",
       "1           1996                    4640.0       Low 2004-03-26  ...   \n",
       "2           2001                    2838.0      High 2004-02-26  ...   \n",
       "3           2001                    3486.0      High 2011-05-19  ...   \n",
       "4           2007                     722.0    Medium 2009-07-23  ...   \n",
       "...          ...                       ...       ...        ...  ...   \n",
       "401120      2005                       NaN       NaN 2011-11-02  ...   \n",
       "401121      2005                       NaN       NaN 2011-11-02  ...   \n",
       "401122      2005                       NaN       NaN 2011-11-02  ...   \n",
       "401123      2005                       NaN       NaN 2011-10-25  ...   \n",
       "401124      2005                       NaN       NaN 2011-10-25  ...   \n",
       "\n",
       "       Undercarriage_Pad_Width         Stick_Length                Thumb  \\\n",
       "0                          NaN                  NaN                  NaN   \n",
       "1                          NaN                  NaN                  NaN   \n",
       "2                          NaN                  NaN                  NaN   \n",
       "3                          NaN                  NaN                  NaN   \n",
       "4                          NaN                  NaN                  NaN   \n",
       "...                        ...                  ...                  ...   \n",
       "401120     None or Unspecified  None or Unspecified  None or Unspecified   \n",
       "401121     None or Unspecified  None or Unspecified  None or Unspecified   \n",
       "401122     None or Unspecified  None or Unspecified  None or Unspecified   \n",
       "401123     None or Unspecified  None or Unspecified  None or Unspecified   \n",
       "401124     None or Unspecified  None or Unspecified  None or Unspecified   \n",
       "\n",
       "            Pattern_Changer Grouser_Type Backhoe_Mounting Blade_Type  \\\n",
       "0                       NaN          NaN              NaN        NaN   \n",
       "1                       NaN          NaN              NaN        NaN   \n",
       "2                       NaN          NaN              NaN        NaN   \n",
       "3                       NaN          NaN              NaN        NaN   \n",
       "4                       NaN          NaN              NaN        NaN   \n",
       "...                     ...          ...              ...        ...   \n",
       "401120  None or Unspecified       Double              NaN        NaN   \n",
       "401121  None or Unspecified       Double              NaN        NaN   \n",
       "401122  None or Unspecified       Double              NaN        NaN   \n",
       "401123  None or Unspecified       Double              NaN        NaN   \n",
       "401124  None or Unspecified       Double              NaN        NaN   \n",
       "\n",
       "       Travel_Controls Differential_Type Steering_Controls  \n",
       "0                  NaN          Standard      Conventional  \n",
       "1                  NaN          Standard      Conventional  \n",
       "2                  NaN               NaN               NaN  \n",
       "3                  NaN               NaN               NaN  \n",
       "4                  NaN               NaN               NaN  \n",
       "...                ...               ...               ...  \n",
       "401120             NaN               NaN               NaN  \n",
       "401121             NaN               NaN               NaN  \n",
       "401122             NaN               NaN               NaN  \n",
       "401123             NaN               NaN               NaN  \n",
       "401124             NaN               NaN               NaN  \n",
       "\n",
       "[401125 rows x 53 columns]"
      ],
      "text/html": "<div>\n<style scoped>\n    .dataframe tbody tr th:only-of-type {\n        vertical-align: middle;\n    }\n\n    .dataframe tbody tr th {\n        vertical-align: top;\n    }\n\n    .dataframe thead th {\n        text-align: right;\n    }\n</style>\n<table border=\"1\" class=\"dataframe\">\n  <thead>\n    <tr style=\"text-align: right;\">\n      <th></th>\n      <th>SalesID</th>\n      <th>SalePrice</th>\n      <th>MachineID</th>\n      <th>ModelID</th>\n      <th>datasource</th>\n      <th>auctioneerID</th>\n      <th>YearMade</th>\n      <th>MachineHoursCurrentMeter</th>\n      <th>UsageBand</th>\n      <th>saledate</th>\n      <th>...</th>\n      <th>Undercarriage_Pad_Width</th>\n      <th>Stick_Length</th>\n      <th>Thumb</th>\n      <th>Pattern_Changer</th>\n      <th>Grouser_Type</th>\n      <th>Backhoe_Mounting</th>\n      <th>Blade_Type</th>\n      <th>Travel_Controls</th>\n      <th>Differential_Type</th>\n      <th>Steering_Controls</th>\n    </tr>\n  </thead>\n  <tbody>\n    <tr>\n      <th>0</th>\n      <td>1139246</td>\n      <td>66000</td>\n      <td>999089</td>\n      <td>3157</td>\n      <td>121</td>\n      <td>3.0</td>\n      <td>2004</td>\n      <td>68.0</td>\n      <td>Low</td>\n      <td>2006-11-16</td>\n      <td>...</td>\n      <td>NaN</td>\n      <td>NaN</td>\n      <td>NaN</td>\n      <td>NaN</td>\n      <td>NaN</td>\n      <td>NaN</td>\n      <td>NaN</td>\n      <td>NaN</td>\n      <td>Standard</td>\n      <td>Conventional</td>\n    </tr>\n    <tr>\n      <th>1</th>\n      <td>1139248</td>\n      <td>57000</td>\n      <td>117657</td>\n      <td>77</td>\n      <td>121</td>\n      <td>3.0</td>\n      <td>1996</td>\n      <td>4640.0</td>\n      <td>Low</td>\n      <td>2004-03-26</td>\n      <td>...</td>\n      <td>NaN</td>\n      <td>NaN</td>\n      <td>NaN</td>\n      <td>NaN</td>\n      <td>NaN</td>\n      <td>NaN</td>\n      <td>NaN</td>\n      <td>NaN</td>\n      <td>Standard</td>\n      <td>Conventional</td>\n    </tr>\n    <tr>\n      <th>2</th>\n      <td>1139249</td>\n      <td>10000</td>\n      <td>434808</td>\n      <td>7009</td>\n      <td>121</td>\n      <td>3.0</td>\n      <td>2001</td>\n      <td>2838.0</td>\n      <td>High</td>\n      <td>2004-02-26</td>\n      <td>...</td>\n      <td>NaN</td>\n      <td>NaN</td>\n      <td>NaN</td>\n      <td>NaN</td>\n      <td>NaN</td>\n      <td>NaN</td>\n      <td>NaN</td>\n      <td>NaN</td>\n      <td>NaN</td>\n      <td>NaN</td>\n    </tr>\n    <tr>\n      <th>3</th>\n      <td>1139251</td>\n      <td>38500</td>\n      <td>1026470</td>\n      <td>332</td>\n      <td>121</td>\n      <td>3.0</td>\n      <td>2001</td>\n      <td>3486.0</td>\n      <td>High</td>\n      <td>2011-05-19</td>\n      <td>...</td>\n      <td>NaN</td>\n      <td>NaN</td>\n      <td>NaN</td>\n      <td>NaN</td>\n      <td>NaN</td>\n      <td>NaN</td>\n      <td>NaN</td>\n      <td>NaN</td>\n      <td>NaN</td>\n      <td>NaN</td>\n    </tr>\n    <tr>\n      <th>4</th>\n      <td>1139253</td>\n      <td>11000</td>\n      <td>1057373</td>\n      <td>17311</td>\n      <td>121</td>\n      <td>3.0</td>\n      <td>2007</td>\n      <td>722.0</td>\n      <td>Medium</td>\n      <td>2009-07-23</td>\n      <td>...</td>\n      <td>NaN</td>\n      <td>NaN</td>\n      <td>NaN</td>\n      <td>NaN</td>\n      <td>NaN</td>\n      <td>NaN</td>\n      <td>NaN</td>\n      <td>NaN</td>\n      <td>NaN</td>\n      <td>NaN</td>\n    </tr>\n    <tr>\n      <th>...</th>\n      <td>...</td>\n      <td>...</td>\n      <td>...</td>\n      <td>...</td>\n      <td>...</td>\n      <td>...</td>\n      <td>...</td>\n      <td>...</td>\n      <td>...</td>\n      <td>...</td>\n      <td>...</td>\n      <td>...</td>\n      <td>...</td>\n      <td>...</td>\n      <td>...</td>\n      <td>...</td>\n      <td>...</td>\n      <td>...</td>\n      <td>...</td>\n      <td>...</td>\n      <td>...</td>\n    </tr>\n    <tr>\n      <th>401120</th>\n      <td>6333336</td>\n      <td>10500</td>\n      <td>1840702</td>\n      <td>21439</td>\n      <td>149</td>\n      <td>1.0</td>\n      <td>2005</td>\n      <td>NaN</td>\n      <td>NaN</td>\n      <td>2011-11-02</td>\n      <td>...</td>\n      <td>None or Unspecified</td>\n      <td>None or Unspecified</td>\n      <td>None or Unspecified</td>\n      <td>None or Unspecified</td>\n      <td>Double</td>\n      <td>NaN</td>\n      <td>NaN</td>\n      <td>NaN</td>\n      <td>NaN</td>\n      <td>NaN</td>\n    </tr>\n    <tr>\n      <th>401121</th>\n      <td>6333337</td>\n      <td>11000</td>\n      <td>1830472</td>\n      <td>21439</td>\n      <td>149</td>\n      <td>1.0</td>\n      <td>2005</td>\n      <td>NaN</td>\n      <td>NaN</td>\n      <td>2011-11-02</td>\n      <td>...</td>\n      <td>None or Unspecified</td>\n      <td>None or Unspecified</td>\n      <td>None or Unspecified</td>\n      <td>None or Unspecified</td>\n      <td>Double</td>\n      <td>NaN</td>\n      <td>NaN</td>\n      <td>NaN</td>\n      <td>NaN</td>\n      <td>NaN</td>\n    </tr>\n    <tr>\n      <th>401122</th>\n      <td>6333338</td>\n      <td>11500</td>\n      <td>1887659</td>\n      <td>21439</td>\n      <td>149</td>\n      <td>1.0</td>\n      <td>2005</td>\n      <td>NaN</td>\n      <td>NaN</td>\n      <td>2011-11-02</td>\n      <td>...</td>\n      <td>None or Unspecified</td>\n      <td>None or Unspecified</td>\n      <td>None or Unspecified</td>\n      <td>None or Unspecified</td>\n      <td>Double</td>\n      <td>NaN</td>\n      <td>NaN</td>\n      <td>NaN</td>\n      <td>NaN</td>\n      <td>NaN</td>\n    </tr>\n    <tr>\n      <th>401123</th>\n      <td>6333341</td>\n      <td>9000</td>\n      <td>1903570</td>\n      <td>21435</td>\n      <td>149</td>\n      <td>2.0</td>\n      <td>2005</td>\n      <td>NaN</td>\n      <td>NaN</td>\n      <td>2011-10-25</td>\n      <td>...</td>\n      <td>None or Unspecified</td>\n      <td>None or Unspecified</td>\n      <td>None or Unspecified</td>\n      <td>None or Unspecified</td>\n      <td>Double</td>\n      <td>NaN</td>\n      <td>NaN</td>\n      <td>NaN</td>\n      <td>NaN</td>\n      <td>NaN</td>\n    </tr>\n    <tr>\n      <th>401124</th>\n      <td>6333342</td>\n      <td>7750</td>\n      <td>1926965</td>\n      <td>21435</td>\n      <td>149</td>\n      <td>2.0</td>\n      <td>2005</td>\n      <td>NaN</td>\n      <td>NaN</td>\n      <td>2011-10-25</td>\n      <td>...</td>\n      <td>None or Unspecified</td>\n      <td>None or Unspecified</td>\n      <td>None or Unspecified</td>\n      <td>None or Unspecified</td>\n      <td>Double</td>\n      <td>NaN</td>\n      <td>NaN</td>\n      <td>NaN</td>\n      <td>NaN</td>\n      <td>NaN</td>\n    </tr>\n  </tbody>\n</table>\n<p>401125 rows × 53 columns</p>\n</div>"
     },
     "metadata": {},
     "execution_count": 76
    }
   ],
   "source": [
    "df_raw"
   ]
  },
  {
   "cell_type": "code",
   "execution_count": 8,
   "metadata": {},
   "outputs": [],
   "source": [
    "# replace a column with its log\n",
    "#log(x) is natural logarithm of x - logs is a simpler way o express larges values\n",
    "\n",
    "df_raw['SalePrice'] = np. log(df_raw.SalePrice)"
   ]
  },
  {
   "cell_type": "code",
   "execution_count": 9,
   "metadata": {},
   "outputs": [
    {
     "output_type": "execute_result",
     "data": {
      "text/plain": [
       "0         11.097410\n",
       "1         10.950807\n",
       "2          9.210340\n",
       "3         10.558414\n",
       "4          9.305651\n",
       "            ...    \n",
       "401120     9.259131\n",
       "401121     9.305651\n",
       "401122     9.350102\n",
       "401123     9.104980\n",
       "401124     8.955448\n",
       "Name: SalePrice, Length: 401125, dtype: float64"
      ]
     },
     "metadata": {},
     "execution_count": 9
    }
   ],
   "source": [
    "\n",
    "df_raw.SalePrice"
   ]
  },
  {
   "cell_type": "code",
   "execution_count": 10,
   "metadata": {},
   "outputs": [
    {
     "output_type": "execute_result",
     "data": {
      "text/plain": [
       "0   2006-11-16\n",
       "1   2004-03-26\n",
       "2   2004-02-26\n",
       "3   2011-05-19\n",
       "4   2009-07-23\n",
       "Name: saledate, dtype: datetime64[ns]"
      ]
     },
     "metadata": {},
     "execution_count": 10
    }
   ],
   "source": [
    "df_raw.saledate.head()\n"
   ]
  },
  {
   "cell_type": "code",
   "execution_count": 65,
   "metadata": {},
   "outputs": [],
   "source": [
    "# add_datepart(df_raw,'saledate')"
   ]
  },
  {
   "cell_type": "code",
   "execution_count": 11,
   "metadata": {},
   "outputs": [],
   "source": [
    "fld =  df_raw.saledate"
   ]
  },
  {
   "cell_type": "code",
   "execution_count": 46,
   "metadata": {},
   "outputs": [],
   "source": [
    "# add_datepart(df_raw,'saledate')"
   ]
  },
  {
   "cell_type": "code",
   "execution_count": 77,
   "metadata": {},
   "outputs": [],
   "source": [
    "# Get the year and the month and the day from datatime\n",
    "\n",
    "# df_raw['saleYear'] = df_raw['saledate'].dt.year\n",
    "# df_raw['saleMonth'] = df_raw['saledate'].dt.month\n",
    "# df_raw['saleWeek'] = df_raw['saledate'].dt.week\n",
    "# df_raw['saleDay'] = df_raw['saledate'].dt.day\n",
    "\n",
    "# Series.dt.isocalendar().week \n",
    "# df_raw = df_raw.drop('saleYear', 1)\n",
    "#df_raw.columns\n",
    "\n"
   ]
  },
  {
   "cell_type": "code",
   "execution_count": 12,
   "metadata": {},
   "outputs": [
    {
     "output_type": "execute_result",
     "data": {
      "text/plain": [
       "0    2006\n",
       "1    2004\n",
       "2    2004\n",
       "3    2011\n",
       "4    2009\n",
       "Name: saleYear, dtype: int64"
      ]
     },
     "metadata": {},
     "execution_count": 12
    }
   ],
   "source": [
    "# Create all the date fields\n",
    "fastai.tabular.core.add_datepart(df_raw,'saledate')\n",
    "df_raw.saleYear.head()"
   ]
  },
  {
   "cell_type": "code",
   "execution_count": 85,
   "metadata": {},
   "outputs": [
    {
     "output_type": "execute_result",
     "data": {
      "text/plain": [
       "Index(['SalesID', 'SalePrice', 'MachineID', 'ModelID', 'datasource',\n",
       "       'auctioneerID', 'YearMade', 'MachineHoursCurrentMeter', 'UsageBand',\n",
       "       'fiModelDesc', 'fiBaseModel', 'fiSecondaryDesc', 'fiModelSeries',\n",
       "       'fiModelDescriptor', 'ProductSize', 'fiProductClassDesc', 'state',\n",
       "       'ProductGroup', 'ProductGroupDesc', 'Drive_System', 'Enclosure',\n",
       "       'Forks', 'Pad_Type', 'Ride_Control', 'Stick', 'Transmission',\n",
       "       'Turbocharged', 'Blade_Extension', 'Blade_Width', 'Enclosure_Type',\n",
       "       'Engine_Horsepower', 'Hydraulics', 'Pushblock', 'Ripper', 'Scarifier',\n",
       "       'Tip_Control', 'Tire_Size', 'Coupler', 'Coupler_System',\n",
       "       'Grouser_Tracks', 'Hydraulics_Flow', 'Track_Type',\n",
       "       'Undercarriage_Pad_Width', 'Stick_Length', 'Thumb', 'Pattern_Changer',\n",
       "       'Grouser_Type', 'Backhoe_Mounting', 'Blade_Type', 'Travel_Controls',\n",
       "       'Differential_Type', 'Steering_Controls', 'saleYear', 'saleMonth',\n",
       "       'saleWeek', 'saleDay', 'saleDayofweek', 'saleDayofyear',\n",
       "       'saleIs_month_end', 'saleIs_month_start', 'saleIs_quarter_end',\n",
       "       'saleIs_quarter_start', 'saleIs_year_end', 'saleIs_year_start',\n",
       "       'saleElapsed'],\n",
       "      dtype='object')"
      ]
     },
     "metadata": {},
     "execution_count": 85
    }
   ],
   "source": [
    "# see all the columns in the datafield\n",
    "df_raw.columns"
   ]
  },
  {
   "cell_type": "code",
   "execution_count": 82,
   "metadata": {},
   "outputs": [
    {
     "output_type": "error",
     "ename": "ValueError",
     "evalue": "could not convert string to float: 'Low'",
     "traceback": [
      "\u001b[1;31m---------------------------------------------------------------------------\u001b[0m",
      "\u001b[1;31mValueError\u001b[0m                                Traceback (most recent call last)",
      "\u001b[1;32m<ipython-input-82-bc6c00665d73>\u001b[0m in \u001b[0;36m<module>\u001b[1;34m\u001b[0m\n\u001b[0;32m      1\u001b[0m \u001b[1;31m#Apply Randon Forest\u001b[0m\u001b[1;33m\u001b[0m\u001b[1;33m\u001b[0m\u001b[1;33m\u001b[0m\u001b[0m\n\u001b[0;32m      2\u001b[0m \u001b[0mm\u001b[0m \u001b[1;33m=\u001b[0m \u001b[0mRandomForestRegressor\u001b[0m\u001b[1;33m(\u001b[0m\u001b[0mn_jobs\u001b[0m \u001b[1;33m=\u001b[0m \u001b[1;33m-\u001b[0m\u001b[1;36m1\u001b[0m\u001b[1;33m)\u001b[0m\u001b[1;33m\u001b[0m\u001b[1;33m\u001b[0m\u001b[0m\n\u001b[1;32m----> 3\u001b[1;33m \u001b[0mm\u001b[0m\u001b[1;33m.\u001b[0m\u001b[0mfit\u001b[0m\u001b[1;33m(\u001b[0m\u001b[0mdf_raw\u001b[0m\u001b[1;33m.\u001b[0m\u001b[0mdrop\u001b[0m\u001b[1;33m(\u001b[0m\u001b[1;34m'SalePrice'\u001b[0m\u001b[1;33m,\u001b[0m\u001b[0maxis\u001b[0m\u001b[1;33m=\u001b[0m\u001b[1;36m1\u001b[0m\u001b[1;33m)\u001b[0m\u001b[1;33m,\u001b[0m \u001b[0mdf_raw\u001b[0m\u001b[1;33m.\u001b[0m\u001b[0mSalePrice\u001b[0m\u001b[1;33m)\u001b[0m\u001b[1;33m\u001b[0m\u001b[1;33m\u001b[0m\u001b[0m\n\u001b[0m",
      "\u001b[1;32mC:\\Programs\\Python\\Python39\\lib\\site-packages\\sklearn\\ensemble\\_forest.py\u001b[0m in \u001b[0;36mfit\u001b[1;34m(self, X, y, sample_weight)\u001b[0m\n\u001b[0;32m    302\u001b[0m                 \u001b[1;34m\"sparse multilabel-indicator for y is not supported.\"\u001b[0m\u001b[1;33m\u001b[0m\u001b[1;33m\u001b[0m\u001b[0m\n\u001b[0;32m    303\u001b[0m             )\n\u001b[1;32m--> 304\u001b[1;33m         X, y = self._validate_data(X, y, multi_output=True,\n\u001b[0m\u001b[0;32m    305\u001b[0m                                    accept_sparse=\"csc\", dtype=DTYPE)\n\u001b[0;32m    306\u001b[0m         \u001b[1;32mif\u001b[0m \u001b[0msample_weight\u001b[0m \u001b[1;32mis\u001b[0m \u001b[1;32mnot\u001b[0m \u001b[1;32mNone\u001b[0m\u001b[1;33m:\u001b[0m\u001b[1;33m\u001b[0m\u001b[1;33m\u001b[0m\u001b[0m\n",
      "\u001b[1;32mC:\\Programs\\Python\\Python39\\lib\\site-packages\\sklearn\\base.py\u001b[0m in \u001b[0;36m_validate_data\u001b[1;34m(self, X, y, reset, validate_separately, **check_params)\u001b[0m\n\u001b[0;32m    431\u001b[0m                 \u001b[0my\u001b[0m \u001b[1;33m=\u001b[0m \u001b[0mcheck_array\u001b[0m\u001b[1;33m(\u001b[0m\u001b[0my\u001b[0m\u001b[1;33m,\u001b[0m \u001b[1;33m**\u001b[0m\u001b[0mcheck_y_params\u001b[0m\u001b[1;33m)\u001b[0m\u001b[1;33m\u001b[0m\u001b[1;33m\u001b[0m\u001b[0m\n\u001b[0;32m    432\u001b[0m             \u001b[1;32melse\u001b[0m\u001b[1;33m:\u001b[0m\u001b[1;33m\u001b[0m\u001b[1;33m\u001b[0m\u001b[0m\n\u001b[1;32m--> 433\u001b[1;33m                 \u001b[0mX\u001b[0m\u001b[1;33m,\u001b[0m \u001b[0my\u001b[0m \u001b[1;33m=\u001b[0m \u001b[0mcheck_X_y\u001b[0m\u001b[1;33m(\u001b[0m\u001b[0mX\u001b[0m\u001b[1;33m,\u001b[0m \u001b[0my\u001b[0m\u001b[1;33m,\u001b[0m \u001b[1;33m**\u001b[0m\u001b[0mcheck_params\u001b[0m\u001b[1;33m)\u001b[0m\u001b[1;33m\u001b[0m\u001b[1;33m\u001b[0m\u001b[0m\n\u001b[0m\u001b[0;32m    434\u001b[0m             \u001b[0mout\u001b[0m \u001b[1;33m=\u001b[0m \u001b[0mX\u001b[0m\u001b[1;33m,\u001b[0m \u001b[0my\u001b[0m\u001b[1;33m\u001b[0m\u001b[1;33m\u001b[0m\u001b[0m\n\u001b[0;32m    435\u001b[0m \u001b[1;33m\u001b[0m\u001b[0m\n",
      "\u001b[1;32mC:\\Programs\\Python\\Python39\\lib\\site-packages\\sklearn\\utils\\validation.py\u001b[0m in \u001b[0;36minner_f\u001b[1;34m(*args, **kwargs)\u001b[0m\n\u001b[0;32m     61\u001b[0m             \u001b[0mextra_args\u001b[0m \u001b[1;33m=\u001b[0m \u001b[0mlen\u001b[0m\u001b[1;33m(\u001b[0m\u001b[0margs\u001b[0m\u001b[1;33m)\u001b[0m \u001b[1;33m-\u001b[0m \u001b[0mlen\u001b[0m\u001b[1;33m(\u001b[0m\u001b[0mall_args\u001b[0m\u001b[1;33m)\u001b[0m\u001b[1;33m\u001b[0m\u001b[1;33m\u001b[0m\u001b[0m\n\u001b[0;32m     62\u001b[0m             \u001b[1;32mif\u001b[0m \u001b[0mextra_args\u001b[0m \u001b[1;33m<=\u001b[0m \u001b[1;36m0\u001b[0m\u001b[1;33m:\u001b[0m\u001b[1;33m\u001b[0m\u001b[1;33m\u001b[0m\u001b[0m\n\u001b[1;32m---> 63\u001b[1;33m                 \u001b[1;32mreturn\u001b[0m \u001b[0mf\u001b[0m\u001b[1;33m(\u001b[0m\u001b[1;33m*\u001b[0m\u001b[0margs\u001b[0m\u001b[1;33m,\u001b[0m \u001b[1;33m**\u001b[0m\u001b[0mkwargs\u001b[0m\u001b[1;33m)\u001b[0m\u001b[1;33m\u001b[0m\u001b[1;33m\u001b[0m\u001b[0m\n\u001b[0m\u001b[0;32m     64\u001b[0m \u001b[1;33m\u001b[0m\u001b[0m\n\u001b[0;32m     65\u001b[0m             \u001b[1;31m# extra_args > 0\u001b[0m\u001b[1;33m\u001b[0m\u001b[1;33m\u001b[0m\u001b[1;33m\u001b[0m\u001b[0m\n",
      "\u001b[1;32mC:\\Programs\\Python\\Python39\\lib\\site-packages\\sklearn\\utils\\validation.py\u001b[0m in \u001b[0;36mcheck_X_y\u001b[1;34m(X, y, accept_sparse, accept_large_sparse, dtype, order, copy, force_all_finite, ensure_2d, allow_nd, multi_output, ensure_min_samples, ensure_min_features, y_numeric, estimator)\u001b[0m\n\u001b[0;32m    869\u001b[0m         \u001b[1;32mraise\u001b[0m \u001b[0mValueError\u001b[0m\u001b[1;33m(\u001b[0m\u001b[1;34m\"y cannot be None\"\u001b[0m\u001b[1;33m)\u001b[0m\u001b[1;33m\u001b[0m\u001b[1;33m\u001b[0m\u001b[0m\n\u001b[0;32m    870\u001b[0m \u001b[1;33m\u001b[0m\u001b[0m\n\u001b[1;32m--> 871\u001b[1;33m     X = check_array(X, accept_sparse=accept_sparse,\n\u001b[0m\u001b[0;32m    872\u001b[0m                     \u001b[0maccept_large_sparse\u001b[0m\u001b[1;33m=\u001b[0m\u001b[0maccept_large_sparse\u001b[0m\u001b[1;33m,\u001b[0m\u001b[1;33m\u001b[0m\u001b[1;33m\u001b[0m\u001b[0m\n\u001b[0;32m    873\u001b[0m                     \u001b[0mdtype\u001b[0m\u001b[1;33m=\u001b[0m\u001b[0mdtype\u001b[0m\u001b[1;33m,\u001b[0m \u001b[0morder\u001b[0m\u001b[1;33m=\u001b[0m\u001b[0morder\u001b[0m\u001b[1;33m,\u001b[0m \u001b[0mcopy\u001b[0m\u001b[1;33m=\u001b[0m\u001b[0mcopy\u001b[0m\u001b[1;33m,\u001b[0m\u001b[1;33m\u001b[0m\u001b[1;33m\u001b[0m\u001b[0m\n",
      "\u001b[1;32mC:\\Programs\\Python\\Python39\\lib\\site-packages\\sklearn\\utils\\validation.py\u001b[0m in \u001b[0;36minner_f\u001b[1;34m(*args, **kwargs)\u001b[0m\n\u001b[0;32m     61\u001b[0m             \u001b[0mextra_args\u001b[0m \u001b[1;33m=\u001b[0m \u001b[0mlen\u001b[0m\u001b[1;33m(\u001b[0m\u001b[0margs\u001b[0m\u001b[1;33m)\u001b[0m \u001b[1;33m-\u001b[0m \u001b[0mlen\u001b[0m\u001b[1;33m(\u001b[0m\u001b[0mall_args\u001b[0m\u001b[1;33m)\u001b[0m\u001b[1;33m\u001b[0m\u001b[1;33m\u001b[0m\u001b[0m\n\u001b[0;32m     62\u001b[0m             \u001b[1;32mif\u001b[0m \u001b[0mextra_args\u001b[0m \u001b[1;33m<=\u001b[0m \u001b[1;36m0\u001b[0m\u001b[1;33m:\u001b[0m\u001b[1;33m\u001b[0m\u001b[1;33m\u001b[0m\u001b[0m\n\u001b[1;32m---> 63\u001b[1;33m                 \u001b[1;32mreturn\u001b[0m \u001b[0mf\u001b[0m\u001b[1;33m(\u001b[0m\u001b[1;33m*\u001b[0m\u001b[0margs\u001b[0m\u001b[1;33m,\u001b[0m \u001b[1;33m**\u001b[0m\u001b[0mkwargs\u001b[0m\u001b[1;33m)\u001b[0m\u001b[1;33m\u001b[0m\u001b[1;33m\u001b[0m\u001b[0m\n\u001b[0m\u001b[0;32m     64\u001b[0m \u001b[1;33m\u001b[0m\u001b[0m\n\u001b[0;32m     65\u001b[0m             \u001b[1;31m# extra_args > 0\u001b[0m\u001b[1;33m\u001b[0m\u001b[1;33m\u001b[0m\u001b[1;33m\u001b[0m\u001b[0m\n",
      "\u001b[1;32mC:\\Programs\\Python\\Python39\\lib\\site-packages\\sklearn\\utils\\validation.py\u001b[0m in \u001b[0;36mcheck_array\u001b[1;34m(array, accept_sparse, accept_large_sparse, dtype, order, copy, force_all_finite, ensure_2d, allow_nd, ensure_min_samples, ensure_min_features, estimator)\u001b[0m\n\u001b[0;32m    671\u001b[0m                     \u001b[0marray\u001b[0m \u001b[1;33m=\u001b[0m \u001b[0marray\u001b[0m\u001b[1;33m.\u001b[0m\u001b[0mastype\u001b[0m\u001b[1;33m(\u001b[0m\u001b[0mdtype\u001b[0m\u001b[1;33m,\u001b[0m \u001b[0mcasting\u001b[0m\u001b[1;33m=\u001b[0m\u001b[1;34m\"unsafe\"\u001b[0m\u001b[1;33m,\u001b[0m \u001b[0mcopy\u001b[0m\u001b[1;33m=\u001b[0m\u001b[1;32mFalse\u001b[0m\u001b[1;33m)\u001b[0m\u001b[1;33m\u001b[0m\u001b[1;33m\u001b[0m\u001b[0m\n\u001b[0;32m    672\u001b[0m                 \u001b[1;32melse\u001b[0m\u001b[1;33m:\u001b[0m\u001b[1;33m\u001b[0m\u001b[1;33m\u001b[0m\u001b[0m\n\u001b[1;32m--> 673\u001b[1;33m                     \u001b[0marray\u001b[0m \u001b[1;33m=\u001b[0m \u001b[0mnp\u001b[0m\u001b[1;33m.\u001b[0m\u001b[0masarray\u001b[0m\u001b[1;33m(\u001b[0m\u001b[0marray\u001b[0m\u001b[1;33m,\u001b[0m \u001b[0morder\u001b[0m\u001b[1;33m=\u001b[0m\u001b[0morder\u001b[0m\u001b[1;33m,\u001b[0m \u001b[0mdtype\u001b[0m\u001b[1;33m=\u001b[0m\u001b[0mdtype\u001b[0m\u001b[1;33m)\u001b[0m\u001b[1;33m\u001b[0m\u001b[1;33m\u001b[0m\u001b[0m\n\u001b[0m\u001b[0;32m    674\u001b[0m             \u001b[1;32mexcept\u001b[0m \u001b[0mComplexWarning\u001b[0m \u001b[1;32mas\u001b[0m \u001b[0mcomplex_warning\u001b[0m\u001b[1;33m:\u001b[0m\u001b[1;33m\u001b[0m\u001b[1;33m\u001b[0m\u001b[0m\n\u001b[0;32m    675\u001b[0m                 raise ValueError(\"Complex data not supported\\n\"\n",
      "\u001b[1;32mC:\\Programs\\Python\\Python39\\lib\\site-packages\\numpy\\core\\_asarray.py\u001b[0m in \u001b[0;36masarray\u001b[1;34m(a, dtype, order, like)\u001b[0m\n\u001b[0;32m    100\u001b[0m         \u001b[1;32mreturn\u001b[0m \u001b[0m_asarray_with_like\u001b[0m\u001b[1;33m(\u001b[0m\u001b[0ma\u001b[0m\u001b[1;33m,\u001b[0m \u001b[0mdtype\u001b[0m\u001b[1;33m=\u001b[0m\u001b[0mdtype\u001b[0m\u001b[1;33m,\u001b[0m \u001b[0morder\u001b[0m\u001b[1;33m=\u001b[0m\u001b[0morder\u001b[0m\u001b[1;33m,\u001b[0m \u001b[0mlike\u001b[0m\u001b[1;33m=\u001b[0m\u001b[0mlike\u001b[0m\u001b[1;33m)\u001b[0m\u001b[1;33m\u001b[0m\u001b[1;33m\u001b[0m\u001b[0m\n\u001b[0;32m    101\u001b[0m \u001b[1;33m\u001b[0m\u001b[0m\n\u001b[1;32m--> 102\u001b[1;33m     \u001b[1;32mreturn\u001b[0m \u001b[0marray\u001b[0m\u001b[1;33m(\u001b[0m\u001b[0ma\u001b[0m\u001b[1;33m,\u001b[0m \u001b[0mdtype\u001b[0m\u001b[1;33m,\u001b[0m \u001b[0mcopy\u001b[0m\u001b[1;33m=\u001b[0m\u001b[1;32mFalse\u001b[0m\u001b[1;33m,\u001b[0m \u001b[0morder\u001b[0m\u001b[1;33m=\u001b[0m\u001b[0morder\u001b[0m\u001b[1;33m)\u001b[0m\u001b[1;33m\u001b[0m\u001b[1;33m\u001b[0m\u001b[0m\n\u001b[0m\u001b[0;32m    103\u001b[0m \u001b[1;33m\u001b[0m\u001b[0m\n\u001b[0;32m    104\u001b[0m \u001b[1;33m\u001b[0m\u001b[0m\n",
      "\u001b[1;32mC:\\Programs\\Python\\Python39\\lib\\site-packages\\pandas\\core\\generic.py\u001b[0m in \u001b[0;36m__array__\u001b[1;34m(self, dtype)\u001b[0m\n\u001b[0;32m   1897\u001b[0m \u001b[1;33m\u001b[0m\u001b[0m\n\u001b[0;32m   1898\u001b[0m     \u001b[1;32mdef\u001b[0m \u001b[0m__array__\u001b[0m\u001b[1;33m(\u001b[0m\u001b[0mself\u001b[0m\u001b[1;33m,\u001b[0m \u001b[0mdtype\u001b[0m\u001b[1;33m=\u001b[0m\u001b[1;32mNone\u001b[0m\u001b[1;33m)\u001b[0m \u001b[1;33m->\u001b[0m \u001b[0mnp\u001b[0m\u001b[1;33m.\u001b[0m\u001b[0mndarray\u001b[0m\u001b[1;33m:\u001b[0m\u001b[1;33m\u001b[0m\u001b[1;33m\u001b[0m\u001b[0m\n\u001b[1;32m-> 1899\u001b[1;33m         \u001b[1;32mreturn\u001b[0m \u001b[0mnp\u001b[0m\u001b[1;33m.\u001b[0m\u001b[0masarray\u001b[0m\u001b[1;33m(\u001b[0m\u001b[0mself\u001b[0m\u001b[1;33m.\u001b[0m\u001b[0m_values\u001b[0m\u001b[1;33m,\u001b[0m \u001b[0mdtype\u001b[0m\u001b[1;33m=\u001b[0m\u001b[0mdtype\u001b[0m\u001b[1;33m)\u001b[0m\u001b[1;33m\u001b[0m\u001b[1;33m\u001b[0m\u001b[0m\n\u001b[0m\u001b[0;32m   1900\u001b[0m \u001b[1;33m\u001b[0m\u001b[0m\n\u001b[0;32m   1901\u001b[0m     def __array_wrap__(\n",
      "\u001b[1;32mC:\\Programs\\Python\\Python39\\lib\\site-packages\\numpy\\core\\_asarray.py\u001b[0m in \u001b[0;36masarray\u001b[1;34m(a, dtype, order, like)\u001b[0m\n\u001b[0;32m    100\u001b[0m         \u001b[1;32mreturn\u001b[0m \u001b[0m_asarray_with_like\u001b[0m\u001b[1;33m(\u001b[0m\u001b[0ma\u001b[0m\u001b[1;33m,\u001b[0m \u001b[0mdtype\u001b[0m\u001b[1;33m=\u001b[0m\u001b[0mdtype\u001b[0m\u001b[1;33m,\u001b[0m \u001b[0morder\u001b[0m\u001b[1;33m=\u001b[0m\u001b[0morder\u001b[0m\u001b[1;33m,\u001b[0m \u001b[0mlike\u001b[0m\u001b[1;33m=\u001b[0m\u001b[0mlike\u001b[0m\u001b[1;33m)\u001b[0m\u001b[1;33m\u001b[0m\u001b[1;33m\u001b[0m\u001b[0m\n\u001b[0;32m    101\u001b[0m \u001b[1;33m\u001b[0m\u001b[0m\n\u001b[1;32m--> 102\u001b[1;33m     \u001b[1;32mreturn\u001b[0m \u001b[0marray\u001b[0m\u001b[1;33m(\u001b[0m\u001b[0ma\u001b[0m\u001b[1;33m,\u001b[0m \u001b[0mdtype\u001b[0m\u001b[1;33m,\u001b[0m \u001b[0mcopy\u001b[0m\u001b[1;33m=\u001b[0m\u001b[1;32mFalse\u001b[0m\u001b[1;33m,\u001b[0m \u001b[0morder\u001b[0m\u001b[1;33m=\u001b[0m\u001b[0morder\u001b[0m\u001b[1;33m)\u001b[0m\u001b[1;33m\u001b[0m\u001b[1;33m\u001b[0m\u001b[0m\n\u001b[0m\u001b[0;32m    103\u001b[0m \u001b[1;33m\u001b[0m\u001b[0m\n\u001b[0;32m    104\u001b[0m \u001b[1;33m\u001b[0m\u001b[0m\n",
      "\u001b[1;31mValueError\u001b[0m: could not convert string to float: 'Low'"
     ]
    }
   ],
   "source": [
    "#Apply Randon Forest\n",
    "m = RandomForestRegressor(n_jobs = -1)\n",
    "m.fit(df_raw.drop('SalePrice',axis=1), df_raw.SalePrice)"
   ]
  },
  {
   "cell_type": "code",
   "execution_count": 35,
   "metadata": {},
   "outputs": [],
   "source": [
    "# the categorical variables are stored as strings, which is inefficient, and doesn't provide \n",
    "# the numeric coding required for a random forest. Therefore we call train_cats to convert strinf tp pandas categries.False\n",
    "\n"
   ]
  },
  {
   "cell_type": "code",
   "execution_count": 13,
   "metadata": {},
   "outputs": [],
   "source": [
    "#creates categorical variables - store a mapping from strings\n",
    "#python has something like this too\n",
    "# no change will be seen in the dataframe, it is in the background\n",
    "train_cats(df_raw)"
   ]
  },
  {
   "cell_type": "code",
   "execution_count": 14,
   "metadata": {},
   "outputs": [
    {
     "output_type": "execute_result",
     "data": {
      "text/plain": [
       "   SalesID  SalePrice  MachineID  ModelID  datasource  auctioneerID  YearMade  \\\n",
       "0  1139246  11.097410     999089     3157         121           3.0      2004   \n",
       "1  1139248  10.950807     117657       77         121           3.0      1996   \n",
       "2  1139249   9.210340     434808     7009         121           3.0      2001   \n",
       "3  1139251  10.558414    1026470      332         121           3.0      2001   \n",
       "4  1139253   9.305651    1057373    17311         121           3.0      2007   \n",
       "\n",
       "   MachineHoursCurrentMeter UsageBand fiModelDesc  ... saleDay saleDayofweek  \\\n",
       "0                      68.0       Low        521D  ...      16             3   \n",
       "1                    4640.0       Low      950FII  ...      26             4   \n",
       "2                    2838.0      High         226  ...      26             3   \n",
       "3                    3486.0      High    PC120-6E  ...      19             3   \n",
       "4                     722.0    Medium        S175  ...      23             3   \n",
       "\n",
       "  saleDayofyear saleIs_month_end saleIs_month_start saleIs_quarter_end  \\\n",
       "0           320            False              False              False   \n",
       "1            86            False              False              False   \n",
       "2            57            False              False              False   \n",
       "3           139            False              False              False   \n",
       "4           204            False              False              False   \n",
       "\n",
       "  saleIs_quarter_start saleIs_year_end saleIs_year_start   saleElapsed  \n",
       "0                False           False             False  1.163635e+09  \n",
       "1                False           False             False  1.080259e+09  \n",
       "2                False           False             False  1.077754e+09  \n",
       "3                False           False             False  1.305763e+09  \n",
       "4                False           False             False  1.248307e+09  \n",
       "\n",
       "[5 rows x 65 columns]"
      ],
      "text/html": "<div>\n<style scoped>\n    .dataframe tbody tr th:only-of-type {\n        vertical-align: middle;\n    }\n\n    .dataframe tbody tr th {\n        vertical-align: top;\n    }\n\n    .dataframe thead th {\n        text-align: right;\n    }\n</style>\n<table border=\"1\" class=\"dataframe\">\n  <thead>\n    <tr style=\"text-align: right;\">\n      <th></th>\n      <th>SalesID</th>\n      <th>SalePrice</th>\n      <th>MachineID</th>\n      <th>ModelID</th>\n      <th>datasource</th>\n      <th>auctioneerID</th>\n      <th>YearMade</th>\n      <th>MachineHoursCurrentMeter</th>\n      <th>UsageBand</th>\n      <th>fiModelDesc</th>\n      <th>...</th>\n      <th>saleDay</th>\n      <th>saleDayofweek</th>\n      <th>saleDayofyear</th>\n      <th>saleIs_month_end</th>\n      <th>saleIs_month_start</th>\n      <th>saleIs_quarter_end</th>\n      <th>saleIs_quarter_start</th>\n      <th>saleIs_year_end</th>\n      <th>saleIs_year_start</th>\n      <th>saleElapsed</th>\n    </tr>\n  </thead>\n  <tbody>\n    <tr>\n      <th>0</th>\n      <td>1139246</td>\n      <td>11.097410</td>\n      <td>999089</td>\n      <td>3157</td>\n      <td>121</td>\n      <td>3.0</td>\n      <td>2004</td>\n      <td>68.0</td>\n      <td>Low</td>\n      <td>521D</td>\n      <td>...</td>\n      <td>16</td>\n      <td>3</td>\n      <td>320</td>\n      <td>False</td>\n      <td>False</td>\n      <td>False</td>\n      <td>False</td>\n      <td>False</td>\n      <td>False</td>\n      <td>1.163635e+09</td>\n    </tr>\n    <tr>\n      <th>1</th>\n      <td>1139248</td>\n      <td>10.950807</td>\n      <td>117657</td>\n      <td>77</td>\n      <td>121</td>\n      <td>3.0</td>\n      <td>1996</td>\n      <td>4640.0</td>\n      <td>Low</td>\n      <td>950FII</td>\n      <td>...</td>\n      <td>26</td>\n      <td>4</td>\n      <td>86</td>\n      <td>False</td>\n      <td>False</td>\n      <td>False</td>\n      <td>False</td>\n      <td>False</td>\n      <td>False</td>\n      <td>1.080259e+09</td>\n    </tr>\n    <tr>\n      <th>2</th>\n      <td>1139249</td>\n      <td>9.210340</td>\n      <td>434808</td>\n      <td>7009</td>\n      <td>121</td>\n      <td>3.0</td>\n      <td>2001</td>\n      <td>2838.0</td>\n      <td>High</td>\n      <td>226</td>\n      <td>...</td>\n      <td>26</td>\n      <td>3</td>\n      <td>57</td>\n      <td>False</td>\n      <td>False</td>\n      <td>False</td>\n      <td>False</td>\n      <td>False</td>\n      <td>False</td>\n      <td>1.077754e+09</td>\n    </tr>\n    <tr>\n      <th>3</th>\n      <td>1139251</td>\n      <td>10.558414</td>\n      <td>1026470</td>\n      <td>332</td>\n      <td>121</td>\n      <td>3.0</td>\n      <td>2001</td>\n      <td>3486.0</td>\n      <td>High</td>\n      <td>PC120-6E</td>\n      <td>...</td>\n      <td>19</td>\n      <td>3</td>\n      <td>139</td>\n      <td>False</td>\n      <td>False</td>\n      <td>False</td>\n      <td>False</td>\n      <td>False</td>\n      <td>False</td>\n      <td>1.305763e+09</td>\n    </tr>\n    <tr>\n      <th>4</th>\n      <td>1139253</td>\n      <td>9.305651</td>\n      <td>1057373</td>\n      <td>17311</td>\n      <td>121</td>\n      <td>3.0</td>\n      <td>2007</td>\n      <td>722.0</td>\n      <td>Medium</td>\n      <td>S175</td>\n      <td>...</td>\n      <td>23</td>\n      <td>3</td>\n      <td>204</td>\n      <td>False</td>\n      <td>False</td>\n      <td>False</td>\n      <td>False</td>\n      <td>False</td>\n      <td>False</td>\n      <td>1.248307e+09</td>\n    </tr>\n  </tbody>\n</table>\n<p>5 rows × 65 columns</p>\n</div>"
     },
     "metadata": {},
     "execution_count": 14
    }
   ],
   "source": [
    "df_raw.head()"
   ]
  },
  {
   "cell_type": "code",
   "execution_count": 15,
   "metadata": {},
   "outputs": [
    {
     "output_type": "execute_result",
     "data": {
      "text/plain": [
       "Index(['High', 'Low', 'Medium'], dtype='object')"
      ]
     },
     "metadata": {},
     "execution_count": 15
    }
   ],
   "source": [
    "# check the order of categories - it doesn't matter too much - when we choose random forest it \n",
    "# will treat them as 0 1 2, you \n",
    "df_raw.UsageBand.cat.categories\n"
   ]
  },
  {
   "cell_type": "code",
   "execution_count": 16,
   "metadata": {},
   "outputs": [
    {
     "output_type": "execute_result",
     "data": {
      "text/plain": [
       "0         1\n",
       "1         1\n",
       "2         0\n",
       "3         0\n",
       "4         2\n",
       "         ..\n",
       "401120   -1\n",
       "401121   -1\n",
       "401122   -1\n",
       "401123   -1\n",
       "401124   -1\n",
       "Length: 401125, dtype: int8"
      ]
     },
     "metadata": {},
     "execution_count": 16
    }
   ],
   "source": [
    "df_raw.UsageBand.cat.codes"
   ]
  },
  {
   "cell_type": "code",
   "execution_count": 17,
   "metadata": {},
   "outputs": [],
   "source": [
    "# the order seems unnatural, so we could re order using\n",
    "#inplace=True - > Instead of creating a new data frame updatres the same one\n",
    "df_raw.UsageBand.cat.set_categories(['High','Medium','Low'],ordered=True, inplace=True)\n",
    "\n",
    "#get_dummies makes different columns, this one makes one column"
   ]
  },
  {
   "source": [
    "## Steps we did so far\n",
    "* 1- we turned the string to numbers  -> used datasplit and using cats\n",
    "* 2- Now we need to make sure we have no null"
   ],
   "cell_type": "markdown",
   "metadata": {}
  },
  {
   "cell_type": "code",
   "execution_count": 18,
   "metadata": {},
   "outputs": [],
   "source": [
    "def display_all(df):\n",
    "    with pd.option_context(\"display.max_rows\", 1000): \n",
    "        with pd.option_context(\"display.max_columns\", 1000): \n",
    "            display(df)\n",
    "\n",
    "\n"
   ]
  },
  {
   "cell_type": "code",
   "execution_count": 97,
   "metadata": {},
   "outputs": [
    {
     "output_type": "display_data",
     "data": {
      "text/plain": "Backhoe_Mounting            0.803872\nBlade_Extension             0.937129\nBlade_Type                  0.800977\nBlade_Width                 0.937129\nCoupler                     0.466620\nCoupler_System              0.891660\nDifferential_Type           0.826959\nDrive_System                0.739829\nEnclosure                   0.000810\nEnclosure_Type              0.937129\nEngine_Horsepower           0.937129\nForks                       0.521154\nGrouser_Tracks              0.891899\nGrouser_Type                0.752813\nHydraulics                  0.200823\nHydraulics_Flow             0.891899\nMachineHoursCurrentMeter    0.644089\nMachineID                   0.000000\nModelID                     0.000000\nPad_Type                    0.802720\nPattern_Changer             0.752651\nProductGroup                0.000000\nProductGroupDesc            0.000000\nProductSize                 0.525460\nPushblock                   0.937129\nRide_Control                0.629527\nRipper                      0.740388\nSalePrice                   0.000000\nSalesID                     0.000000\nScarifier                   0.937102\nSteering_Controls           0.827064\nStick                       0.802720\nStick_Length                0.752651\nThumb                       0.752476\nTip_Control                 0.937129\nTire_Size                   0.763869\nTrack_Type                  0.752813\nTransmission                0.543210\nTravel_Controls             0.800975\nTurbocharged                0.802720\nUndercarriage_Pad_Width     0.751020\nUsageBand                   0.826391\nYearMade                    0.000000\nauctioneerID                0.050199\ndatasource                  0.000000\nfiBaseModel                 0.000000\nfiModelDesc                 0.000000\nfiModelDescriptor           0.820707\nfiModelSeries               0.858129\nfiProductClassDesc          0.000000\nfiSecondaryDesc             0.342016\nsaleDay                     0.000000\nsaleDayofweek               0.000000\nsaleDayofyear               0.000000\nsaleElapsed                 0.000000\nsaleIs_month_end            0.000000\nsaleIs_month_start          0.000000\nsaleIs_quarter_end          0.000000\nsaleIs_quarter_start        0.000000\nsaleIs_year_end             0.000000\nsaleIs_year_start           0.000000\nsaleMonth                   0.000000\nsaleWeek                    0.000000\nsaleYear                    0.000000\nstate                       0.000000\ndtype: float64"
     },
     "metadata": {}
    }
   ],
   "source": [
    "#Display all missing values\r\n",
    "display_all(df_raw.isnull().sum().sort_index()/len(df_raw))\r\n",
    "            "
   ]
  },
  {
   "source": [
    "## Save the Data"
   ],
   "cell_type": "markdown",
   "metadata": {}
  },
  {
   "cell_type": "code",
   "execution_count": 19,
   "metadata": {},
   "outputs": [],
   "source": [
    "from pyarrow import feather"
   ]
  },
  {
   "cell_type": "code",
   "execution_count": 20,
   "metadata": {},
   "outputs": [],
   "source": [
    "#Let's save the file for now, since it's in format and we can be accessed efficiently\n",
    "# we save it in feather format - \n",
    "os.makedirs('tmp',exist_ok= True)\n",
    "df_raw.to_feather('tmp/raw')"
   ]
  },
  {
   "cell_type": "code",
   "execution_count": 21,
   "metadata": {},
   "outputs": [],
   "source": [
    "df_raw = pd.read_feather('tmp/raw')"
   ]
  },
  {
   "cell_type": "code",
   "execution_count": 22,
   "metadata": {},
   "outputs": [
    {
     "output_type": "execute_result",
     "data": {
      "text/plain": [
       "   SalesID  SalePrice  MachineID  ModelID  datasource  auctioneerID  YearMade  \\\n",
       "0  1139246  11.097410     999089     3157         121           3.0      2004   \n",
       "1  1139248  10.950807     117657       77         121           3.0      1996   \n",
       "2  1139249   9.210340     434808     7009         121           3.0      2001   \n",
       "3  1139251  10.558414    1026470      332         121           3.0      2001   \n",
       "4  1139253   9.305651    1057373    17311         121           3.0      2007   \n",
       "\n",
       "   MachineHoursCurrentMeter UsageBand fiModelDesc  ... saleDay saleDayofweek  \\\n",
       "0                      68.0       Low        521D  ...      16             3   \n",
       "1                    4640.0       Low      950FII  ...      26             4   \n",
       "2                    2838.0      High         226  ...      26             3   \n",
       "3                    3486.0      High    PC120-6E  ...      19             3   \n",
       "4                     722.0    Medium        S175  ...      23             3   \n",
       "\n",
       "  saleDayofyear saleIs_month_end saleIs_month_start saleIs_quarter_end  \\\n",
       "0           320            False              False              False   \n",
       "1            86            False              False              False   \n",
       "2            57            False              False              False   \n",
       "3           139            False              False              False   \n",
       "4           204            False              False              False   \n",
       "\n",
       "  saleIs_quarter_start saleIs_year_end saleIs_year_start   saleElapsed  \n",
       "0                False           False             False  1.163635e+09  \n",
       "1                False           False             False  1.080259e+09  \n",
       "2                False           False             False  1.077754e+09  \n",
       "3                False           False             False  1.305763e+09  \n",
       "4                False           False             False  1.248307e+09  \n",
       "\n",
       "[5 rows x 65 columns]"
      ],
      "text/html": "<div>\n<style scoped>\n    .dataframe tbody tr th:only-of-type {\n        vertical-align: middle;\n    }\n\n    .dataframe tbody tr th {\n        vertical-align: top;\n    }\n\n    .dataframe thead th {\n        text-align: right;\n    }\n</style>\n<table border=\"1\" class=\"dataframe\">\n  <thead>\n    <tr style=\"text-align: right;\">\n      <th></th>\n      <th>SalesID</th>\n      <th>SalePrice</th>\n      <th>MachineID</th>\n      <th>ModelID</th>\n      <th>datasource</th>\n      <th>auctioneerID</th>\n      <th>YearMade</th>\n      <th>MachineHoursCurrentMeter</th>\n      <th>UsageBand</th>\n      <th>fiModelDesc</th>\n      <th>...</th>\n      <th>saleDay</th>\n      <th>saleDayofweek</th>\n      <th>saleDayofyear</th>\n      <th>saleIs_month_end</th>\n      <th>saleIs_month_start</th>\n      <th>saleIs_quarter_end</th>\n      <th>saleIs_quarter_start</th>\n      <th>saleIs_year_end</th>\n      <th>saleIs_year_start</th>\n      <th>saleElapsed</th>\n    </tr>\n  </thead>\n  <tbody>\n    <tr>\n      <th>0</th>\n      <td>1139246</td>\n      <td>11.097410</td>\n      <td>999089</td>\n      <td>3157</td>\n      <td>121</td>\n      <td>3.0</td>\n      <td>2004</td>\n      <td>68.0</td>\n      <td>Low</td>\n      <td>521D</td>\n      <td>...</td>\n      <td>16</td>\n      <td>3</td>\n      <td>320</td>\n      <td>False</td>\n      <td>False</td>\n      <td>False</td>\n      <td>False</td>\n      <td>False</td>\n      <td>False</td>\n      <td>1.163635e+09</td>\n    </tr>\n    <tr>\n      <th>1</th>\n      <td>1139248</td>\n      <td>10.950807</td>\n      <td>117657</td>\n      <td>77</td>\n      <td>121</td>\n      <td>3.0</td>\n      <td>1996</td>\n      <td>4640.0</td>\n      <td>Low</td>\n      <td>950FII</td>\n      <td>...</td>\n      <td>26</td>\n      <td>4</td>\n      <td>86</td>\n      <td>False</td>\n      <td>False</td>\n      <td>False</td>\n      <td>False</td>\n      <td>False</td>\n      <td>False</td>\n      <td>1.080259e+09</td>\n    </tr>\n    <tr>\n      <th>2</th>\n      <td>1139249</td>\n      <td>9.210340</td>\n      <td>434808</td>\n      <td>7009</td>\n      <td>121</td>\n      <td>3.0</td>\n      <td>2001</td>\n      <td>2838.0</td>\n      <td>High</td>\n      <td>226</td>\n      <td>...</td>\n      <td>26</td>\n      <td>3</td>\n      <td>57</td>\n      <td>False</td>\n      <td>False</td>\n      <td>False</td>\n      <td>False</td>\n      <td>False</td>\n      <td>False</td>\n      <td>1.077754e+09</td>\n    </tr>\n    <tr>\n      <th>3</th>\n      <td>1139251</td>\n      <td>10.558414</td>\n      <td>1026470</td>\n      <td>332</td>\n      <td>121</td>\n      <td>3.0</td>\n      <td>2001</td>\n      <td>3486.0</td>\n      <td>High</td>\n      <td>PC120-6E</td>\n      <td>...</td>\n      <td>19</td>\n      <td>3</td>\n      <td>139</td>\n      <td>False</td>\n      <td>False</td>\n      <td>False</td>\n      <td>False</td>\n      <td>False</td>\n      <td>False</td>\n      <td>1.305763e+09</td>\n    </tr>\n    <tr>\n      <th>4</th>\n      <td>1139253</td>\n      <td>9.305651</td>\n      <td>1057373</td>\n      <td>17311</td>\n      <td>121</td>\n      <td>3.0</td>\n      <td>2007</td>\n      <td>722.0</td>\n      <td>Medium</td>\n      <td>S175</td>\n      <td>...</td>\n      <td>23</td>\n      <td>3</td>\n      <td>204</td>\n      <td>False</td>\n      <td>False</td>\n      <td>False</td>\n      <td>False</td>\n      <td>False</td>\n      <td>False</td>\n      <td>1.248307e+09</td>\n    </tr>\n  </tbody>\n</table>\n<p>5 rows × 65 columns</p>\n</div>"
     },
     "metadata": {},
     "execution_count": 22
    }
   ],
   "source": [
    "df_raw.head()"
   ]
  },
  {
   "cell_type": "code",
   "execution_count": null,
   "metadata": {},
   "outputs": [],
   "source": [
    "# Next Step:\n",
    "# we'll replace categories with their numeric codes, handle missing continious values, and split the dependent variable into a separate variable\n"
   ]
  },
  {
   "cell_type": "code",
   "execution_count": 144,
   "metadata": {},
   "outputs": [
    {
     "output_type": "error",
     "ename": "ValueError",
     "evalue": "too many values to unpack (expected 2)",
     "traceback": [
      "\u001b[1;31m---------------------------------------------------------------------------\u001b[0m",
      "\u001b[1;31mValueError\u001b[0m                                Traceback (most recent call last)",
      "\u001b[1;32m<ipython-input-144-f68b2fa695c9>\u001b[0m in \u001b[0;36m<module>\u001b[1;34m\u001b[0m\n\u001b[0;32m      8\u001b[0m \u001b[1;31m# replace the missing with median\u001b[0m\u001b[1;33m\u001b[0m\u001b[1;33m\u001b[0m\u001b[1;33m\u001b[0m\u001b[0m\n\u001b[0;32m      9\u001b[0m \u001b[1;31m# for categies - panda sets missing variables to -1\u001b[0m\u001b[1;33m\u001b[0m\u001b[1;33m\u001b[0m\u001b[1;33m\u001b[0m\u001b[0m\n\u001b[1;32m---> 10\u001b[1;33m \u001b[0mdf\u001b[0m\u001b[1;33m,\u001b[0m \u001b[0my\u001b[0m \u001b[1;33m=\u001b[0m \u001b[0mproc_df\u001b[0m\u001b[1;33m(\u001b[0m\u001b[0mdf_raw\u001b[0m\u001b[1;33m,\u001b[0m\u001b[1;34m'SalePrice'\u001b[0m\u001b[1;33m)\u001b[0m\u001b[1;33m\u001b[0m\u001b[1;33m\u001b[0m\u001b[0m\n\u001b[0m",
      "\u001b[1;31mValueError\u001b[0m: too many values to unpack (expected 2)"
     ]
    }
   ],
   "source": [
    "# what this does copy the made\n",
    "# actually replace the strings with their numeric codes\n",
    "# pull out the dependet variable SalePrice into a separate variable\n",
    "# handle missing continious valyes----- using proc_df\n",
    "# make a copy of the data frame\n",
    "# drop the dependent variable\n",
    "# fix missing - if numeric -> if does have missing value, create a boolean column 1 anytime missingre\n",
    "# replace the missing with median\n",
    "# for categies - panda sets missing variables to -1\n",
    "# df, y = proc_df(df_raw,'SalePrice')"
   ]
  },
  {
   "cell_type": "code",
   "execution_count": 23,
   "metadata": {},
   "outputs": [],
   "source": [
    "df,x, y = proc_df(df_raw, 'SalePrice')"
   ]
  },
  {
   "cell_type": "code",
   "execution_count": 146,
   "metadata": {},
   "outputs": [
    {
     "output_type": "execute_result",
     "data": {
      "text/plain": [
       "Index(['SalesID', 'MachineID', 'ModelID', 'datasource', 'auctioneerID',\n",
       "       'YearMade', 'MachineHoursCurrentMeter', 'UsageBand', 'fiModelDesc',\n",
       "       'fiBaseModel', 'fiSecondaryDesc', 'fiModelSeries', 'fiModelDescriptor',\n",
       "       'ProductSize', 'fiProductClassDesc', 'state', 'ProductGroup',\n",
       "       'ProductGroupDesc', 'Drive_System', 'Enclosure', 'Forks', 'Pad_Type',\n",
       "       'Ride_Control', 'Stick', 'Transmission', 'Turbocharged',\n",
       "       'Blade_Extension', 'Blade_Width', 'Enclosure_Type', 'Engine_Horsepower',\n",
       "       'Hydraulics', 'Pushblock', 'Ripper', 'Scarifier', 'Tip_Control',\n",
       "       'Tire_Size', 'Coupler', 'Coupler_System', 'Grouser_Tracks',\n",
       "       'Hydraulics_Flow', 'Track_Type', 'Undercarriage_Pad_Width',\n",
       "       'Stick_Length', 'Thumb', 'Pattern_Changer', 'Grouser_Type',\n",
       "       'Backhoe_Mounting', 'Blade_Type', 'Travel_Controls',\n",
       "       'Differential_Type', 'Steering_Controls', 'saleYear', 'saleMonth',\n",
       "       'saleWeek', 'saleDay', 'saleDayofweek', 'saleDayofyear',\n",
       "       'saleIs_month_end', 'saleIs_month_start', 'saleIs_quarter_end',\n",
       "       'saleIs_quarter_start', 'saleIs_year_end', 'saleIs_year_start',\n",
       "       'saleElapsed', 'auctioneerID_na', 'MachineHoursCurrentMeter_na'],\n",
       "      dtype='object')"
      ]
     },
     "metadata": {},
     "execution_count": 146
    }
   ],
   "source": [
    "df.columns"
   ]
  },
  {
   "cell_type": "code",
   "execution_count": 111,
   "metadata": {},
   "outputs": [
    {
     "output_type": "execute_result",
     "data": {
      "text/plain": [
       "   SalesID  MachineID  ModelID  datasource  auctioneerID  YearMade  \\\n",
       "0  1139246     999089     3157         121           3.0      2004   \n",
       "1  1139248     117657       77         121           3.0      1996   \n",
       "2  1139249     434808     7009         121           3.0      2001   \n",
       "3  1139251    1026470      332         121           3.0      2001   \n",
       "4  1139253    1057373    17311         121           3.0      2007   \n",
       "\n",
       "   MachineHoursCurrentMeter  UsageBand  fiModelDesc  fiBaseModel  ...  \\\n",
       "0                      68.0          3          950          296  ...   \n",
       "1                    4640.0          3         1725          527  ...   \n",
       "2                    2838.0          1          331          110  ...   \n",
       "3                    3486.0          1         3674         1375  ...   \n",
       "4                     722.0          2         4208         1529  ...   \n",
       "\n",
       "   saleDayofyear  saleIs_month_end  saleIs_month_start  saleIs_quarter_end  \\\n",
       "0            320             False               False               False   \n",
       "1             86             False               False               False   \n",
       "2             57             False               False               False   \n",
       "3            139             False               False               False   \n",
       "4            204             False               False               False   \n",
       "\n",
       "   saleIs_quarter_start  saleIs_year_end  saleIs_year_start   saleElapsed  \\\n",
       "0                 False            False              False  1.163635e+09   \n",
       "1                 False            False              False  1.080259e+09   \n",
       "2                 False            False              False  1.077754e+09   \n",
       "3                 False            False              False  1.305763e+09   \n",
       "4                 False            False              False  1.248307e+09   \n",
       "\n",
       "   auctioneerID_na  MachineHoursCurrentMeter_na  \n",
       "0            False                        False  \n",
       "1            False                        False  \n",
       "2            False                        False  \n",
       "3            False                        False  \n",
       "4            False                        False  \n",
       "\n",
       "[5 rows x 66 columns]"
      ],
      "text/html": "<div>\n<style scoped>\n    .dataframe tbody tr th:only-of-type {\n        vertical-align: middle;\n    }\n\n    .dataframe tbody tr th {\n        vertical-align: top;\n    }\n\n    .dataframe thead th {\n        text-align: right;\n    }\n</style>\n<table border=\"1\" class=\"dataframe\">\n  <thead>\n    <tr style=\"text-align: right;\">\n      <th></th>\n      <th>SalesID</th>\n      <th>MachineID</th>\n      <th>ModelID</th>\n      <th>datasource</th>\n      <th>auctioneerID</th>\n      <th>YearMade</th>\n      <th>MachineHoursCurrentMeter</th>\n      <th>UsageBand</th>\n      <th>fiModelDesc</th>\n      <th>fiBaseModel</th>\n      <th>...</th>\n      <th>saleDayofyear</th>\n      <th>saleIs_month_end</th>\n      <th>saleIs_month_start</th>\n      <th>saleIs_quarter_end</th>\n      <th>saleIs_quarter_start</th>\n      <th>saleIs_year_end</th>\n      <th>saleIs_year_start</th>\n      <th>saleElapsed</th>\n      <th>auctioneerID_na</th>\n      <th>MachineHoursCurrentMeter_na</th>\n    </tr>\n  </thead>\n  <tbody>\n    <tr>\n      <th>0</th>\n      <td>1139246</td>\n      <td>999089</td>\n      <td>3157</td>\n      <td>121</td>\n      <td>3.0</td>\n      <td>2004</td>\n      <td>68.0</td>\n      <td>3</td>\n      <td>950</td>\n      <td>296</td>\n      <td>...</td>\n      <td>320</td>\n      <td>False</td>\n      <td>False</td>\n      <td>False</td>\n      <td>False</td>\n      <td>False</td>\n      <td>False</td>\n      <td>1.163635e+09</td>\n      <td>False</td>\n      <td>False</td>\n    </tr>\n    <tr>\n      <th>1</th>\n      <td>1139248</td>\n      <td>117657</td>\n      <td>77</td>\n      <td>121</td>\n      <td>3.0</td>\n      <td>1996</td>\n      <td>4640.0</td>\n      <td>3</td>\n      <td>1725</td>\n      <td>527</td>\n      <td>...</td>\n      <td>86</td>\n      <td>False</td>\n      <td>False</td>\n      <td>False</td>\n      <td>False</td>\n      <td>False</td>\n      <td>False</td>\n      <td>1.080259e+09</td>\n      <td>False</td>\n      <td>False</td>\n    </tr>\n    <tr>\n      <th>2</th>\n      <td>1139249</td>\n      <td>434808</td>\n      <td>7009</td>\n      <td>121</td>\n      <td>3.0</td>\n      <td>2001</td>\n      <td>2838.0</td>\n      <td>1</td>\n      <td>331</td>\n      <td>110</td>\n      <td>...</td>\n      <td>57</td>\n      <td>False</td>\n      <td>False</td>\n      <td>False</td>\n      <td>False</td>\n      <td>False</td>\n      <td>False</td>\n      <td>1.077754e+09</td>\n      <td>False</td>\n      <td>False</td>\n    </tr>\n    <tr>\n      <th>3</th>\n      <td>1139251</td>\n      <td>1026470</td>\n      <td>332</td>\n      <td>121</td>\n      <td>3.0</td>\n      <td>2001</td>\n      <td>3486.0</td>\n      <td>1</td>\n      <td>3674</td>\n      <td>1375</td>\n      <td>...</td>\n      <td>139</td>\n      <td>False</td>\n      <td>False</td>\n      <td>False</td>\n      <td>False</td>\n      <td>False</td>\n      <td>False</td>\n      <td>1.305763e+09</td>\n      <td>False</td>\n      <td>False</td>\n    </tr>\n    <tr>\n      <th>4</th>\n      <td>1139253</td>\n      <td>1057373</td>\n      <td>17311</td>\n      <td>121</td>\n      <td>3.0</td>\n      <td>2007</td>\n      <td>722.0</td>\n      <td>2</td>\n      <td>4208</td>\n      <td>1529</td>\n      <td>...</td>\n      <td>204</td>\n      <td>False</td>\n      <td>False</td>\n      <td>False</td>\n      <td>False</td>\n      <td>False</td>\n      <td>False</td>\n      <td>1.248307e+09</td>\n      <td>False</td>\n      <td>False</td>\n    </tr>\n  </tbody>\n</table>\n<p>5 rows × 66 columns</p>\n</div>"
     },
     "metadata": {},
     "execution_count": 111
    }
   ],
   "source": [
    "df.head()"
   ]
  },
  {
   "cell_type": "code",
   "execution_count": 114,
   "metadata": {},
   "outputs": [
    {
     "output_type": "execute_result",
     "data": {
      "text/plain": [
       "{'auctioneerID': 2.0, 'MachineHoursCurrentMeter': 0.0}"
      ]
     },
     "metadata": {},
     "execution_count": 114
    }
   ],
   "source": [
    "y"
   ]
  },
  {
   "cell_type": "code",
   "execution_count": 115,
   "metadata": {},
   "outputs": [
    {
     "output_type": "execute_result",
     "data": {
      "text/plain": [
       "0.9881746598683774"
      ]
     },
     "metadata": {},
     "execution_count": 115
    }
   ],
   "source": [
    "# this is all numbers, so we can run random Random Forest now\n",
    "# the score is R square 1 is very good and r is very bad\n",
    "# next we need to use some other dataset to test this\n",
    "m = RandomForestRegressor(n_jobs= -1)\n",
    "m.fit(df,x)\n",
    "m.score(df,x)"
   ]
  },
  {
   "cell_type": "code",
   "execution_count": 24,
   "metadata": {},
   "outputs": [
    {
     "output_type": "execute_result",
     "data": {
      "text/plain": [
       "((389125, 66), (389125,), (12000, 66))"
      ]
     },
     "metadata": {},
     "execution_count": 24
    }
   ],
   "source": [
    "# split for training\n",
    "def split_vals(a,n): return a[:n].copy(), a[n:].copy()\n",
    "\n",
    "n_valid = 12000  # same as Kaggle's test set size\n",
    "n_trn = len(df)-n_valid\n",
    "\n",
    "raw_train, raw_valid = split_vals(df_raw, n_trn)\n",
    "X_train, X_valid = split_vals(df, n_trn)\n",
    "y_train, y_valid = split_vals(x, n_trn)\n",
    "\n",
    "X_train.shape, y_train.shape, X_valid.shape\n"
   ]
  },
  {
   "cell_type": "code",
   "execution_count": 25,
   "metadata": {},
   "outputs": [],
   "source": [
    "#now let's try the model and this time separate training and validation\n",
    "def rmse(x,y): return math.sqrt(((x-y)**2).mean())\n",
    "\n",
    "def print_score(m): \n",
    "    res = [rmse(m.predict(X_train), y_train), rmse(m.predict(X_valid), y_valid),\n",
    "                m.score(X_train, y_train), m.score(X_valid, y_valid)]\n",
    "    if hasattr(m, 'oob_score_'): res.append(m.oob_score_)\n",
    "    print(res)\n"
   ]
  },
  {
   "cell_type": "code",
   "execution_count": 129,
   "metadata": {},
   "outputs": [
    {
     "output_type": "stream",
     "name": "stdout",
     "text": [
      "Wall time: 1min 37s\n",
      "[0.0756750874062741, 0.2352499050894546, 0.9880314734210563, 0.9011658827282231]\n"
     ]
    }
   ],
   "source": [
    "m = RandomForestRegressor(n_jobs=-1)\n",
    "%time m.fit(X_train, y_train)\n",
    "print_score(m)"
   ]
  },
  {
   "source": [
    "## Speeding things up"
   ],
   "cell_type": "markdown",
   "metadata": {}
  },
  {
   "cell_type": "code",
   "execution_count": 141,
   "metadata": {},
   "outputs": [],
   "source": []
  },
  {
   "cell_type": "code",
   "execution_count": 152,
   "metadata": {},
   "outputs": [],
   "source": [
    "# ??proc_df\n"
   ]
  },
  {
   "cell_type": "code",
   "execution_count": 26,
   "metadata": {},
   "outputs": [],
   "source": [
    "# def split_vals(a,n): return a[:n].copy(), a[n:].copy()\n",
    "\n",
    "df_trn, y_trn, x_trn = proc_df(df_raw,'SalePrice')\n",
    "\n",
    "X_train, _ = split_vals (df_trn, 20000)\n",
    "y_train, _ = split_vals (y_trn, 20000)"
   ]
  },
  {
   "cell_type": "code",
   "execution_count": 27,
   "metadata": {},
   "outputs": [
    {
     "output_type": "execute_result",
     "data": {
      "text/plain": [
       "{'auctioneerID': 2.0, 'MachineHoursCurrentMeter': 0.0}"
      ]
     },
     "metadata": {},
     "execution_count": 27
    }
   ],
   "source": [
    "x_trn\n"
   ]
  },
  {
   "cell_type": "code",
   "execution_count": 28,
   "metadata": {},
   "outputs": [
    {
     "output_type": "stream",
     "name": "stdout",
     "text": [
      "Wall time: 4.76 s\n",
      "[0.08641229166422504, 0.3221901413038917, 0.9849049040255403, 0.8146159060977014]\n"
     ]
    }
   ],
   "source": [
    "m = RandomForestRegressor(n_jobs= -1)\n",
    "%time m.fit(X_train, y_train)\n",
    "print_score(m)\n"
   ]
  },
  {
   "source": [
    "## Single Tree"
   ],
   "cell_type": "markdown",
   "metadata": {}
  },
  {
   "cell_type": "code",
   "execution_count": 29,
   "metadata": {},
   "outputs": [
    {
     "output_type": "stream",
     "name": "stdout",
     "text": [
      "[0.4965829795739235, 0.5246832258551819, 0.5014961773561586, 0.5083655198087903]\n"
     ]
    }
   ],
   "source": [
    "m = RandomForestRegressor(n_estimators=1, max_depth=3,bootstrap=False, n_jobs=-1)\n",
    "m.fit(X_train, y_train)\n",
    "print_score(m)"
   ]
  },
  {
   "cell_type": "code",
   "execution_count": 163,
   "metadata": {},
   "outputs": [],
   "source": [
    "import os\n"
   ]
  },
  {
   "cell_type": "code",
   "execution_count": 30,
   "metadata": {},
   "outputs": [],
   "source": [
    "# os.pathsep\n",
    "# os.environ[\"PATH\"] += os.pathsep + 'C:/Program Files/Graphviz/bin/'"
   ]
  },
  {
   "cell_type": "code",
   "execution_count": 31,
   "metadata": {},
   "outputs": [
    {
     "output_type": "display_data",
     "data": {
      "text/plain": "<graphviz.files.Source at 0x1e380308370>",
      "image/svg+xml": "<?xml version=\"1.0\" encoding=\"UTF-8\" standalone=\"no\"?>\r\n<!DOCTYPE svg PUBLIC \"-//W3C//DTD SVG 1.1//EN\"\r\n \"http://www.w3.org/Graphics/SVG/1.1/DTD/svg11.dtd\">\r\n<!-- Generated by graphviz version 2.47.3 (20210619.1520)\r\n -->\r\n<!-- Title: Tree Pages: 1 -->\r\n<svg width=\"720pt\" height=\"434pt\"\r\n viewBox=\"0.00 0.00 720.00 434.49\" xmlns=\"http://www.w3.org/2000/svg\" xmlns:xlink=\"http://www.w3.org/1999/xlink\">\r\n<g id=\"graph0\" class=\"graph\" transform=\"scale(0.78 0.78) rotate(0) translate(4 554)\">\r\n<title>Tree</title>\r\n<polygon fill=\"white\" stroke=\"transparent\" points=\"-4,4 -4,-554 920.67,-554 920.67,4 -4,4\"/>\r\n<!-- 0 -->\r\n<g id=\"node1\" class=\"node\">\r\n<title>0</title>\r\n<polygon fill=\"#eda674\" stroke=\"black\" points=\"171.17,-336.5 28.17,-336.5 28.17,-268.5 171.17,-268.5 171.17,-336.5\"/>\r\n<text text-anchor=\"start\" x=\"36.17\" y=\"-321.3\" font-family=\"Times New Roman,serif\" font-size=\"14.00\">Coupler_System ≤ 0.5</text>\r\n<text text-anchor=\"start\" x=\"64.67\" y=\"-306.3\" font-family=\"Times New Roman,serif\" font-size=\"14.00\">mse = 0.495</text>\r\n<text text-anchor=\"start\" x=\"52.17\" y=\"-291.3\" font-family=\"Times New Roman,serif\" font-size=\"14.00\">samples = 20000</text>\r\n<text text-anchor=\"start\" x=\"58.67\" y=\"-276.3\" font-family=\"Times New Roman,serif\" font-size=\"14.00\">value = 10.189</text>\r\n</g>\r\n<!-- 1 -->\r\n<g id=\"node2\" class=\"node\">\r\n<title>1</title>\r\n<polygon fill=\"#eb9c63\" stroke=\"black\" points=\"394.17,-372.5 283.17,-372.5 283.17,-304.5 394.17,-304.5 394.17,-372.5\"/>\r\n<text text-anchor=\"start\" x=\"294.67\" y=\"-357.3\" font-family=\"Times New Roman,serif\" font-size=\"14.00\">Enclosure ≤ 2.0</text>\r\n<text text-anchor=\"start\" x=\"303.67\" y=\"-342.3\" font-family=\"Times New Roman,serif\" font-size=\"14.00\">mse = 0.414</text>\r\n<text text-anchor=\"start\" x=\"291.17\" y=\"-327.3\" font-family=\"Times New Roman,serif\" font-size=\"14.00\">samples = 16815</text>\r\n<text text-anchor=\"start\" x=\"297.67\" y=\"-312.3\" font-family=\"Times New Roman,serif\" font-size=\"14.00\">value = 10.345</text>\r\n</g>\r\n<!-- 0&#45;&gt;1 -->\r\n<g id=\"edge1\" class=\"edge\">\r\n<title>0&#45;&gt;1</title>\r\n<path fill=\"none\" stroke=\"black\" d=\"M171.45,-313.25C203.7,-318.15 241.61,-323.91 273.07,-328.69\"/>\r\n<polygon fill=\"black\" stroke=\"black\" points=\"272.63,-332.16 283.04,-330.2 273.68,-325.24 272.63,-332.16\"/>\r\n<text text-anchor=\"middle\" x=\"262.91\" y=\"-341.32\" font-family=\"Times New Roman,serif\" font-size=\"14.00\">True</text>\r\n</g>\r\n<!-- 8 -->\r\n<g id=\"node9\" class=\"node\">\r\n<title>8</title>\r\n<polygon fill=\"#f8dfcd\" stroke=\"black\" points=\"402.17,-245.5 275.17,-245.5 275.17,-177.5 402.17,-177.5 402.17,-245.5\"/>\r\n<text text-anchor=\"start\" x=\"283.17\" y=\"-230.3\" font-family=\"Times New Roman,serif\" font-size=\"14.00\">YearMade ≤ 1999.5</text>\r\n<text text-anchor=\"start\" x=\"303.67\" y=\"-215.3\" font-family=\"Times New Roman,serif\" font-size=\"14.00\">mse = 0.109</text>\r\n<text text-anchor=\"start\" x=\"294.67\" y=\"-200.3\" font-family=\"Times New Roman,serif\" font-size=\"14.00\">samples = 3185</text>\r\n<text text-anchor=\"start\" x=\"300.67\" y=\"-185.3\" font-family=\"Times New Roman,serif\" font-size=\"14.00\">value = 9.363</text>\r\n</g>\r\n<!-- 0&#45;&gt;8 -->\r\n<g id=\"edge8\" class=\"edge\">\r\n<title>0&#45;&gt;8</title>\r\n<path fill=\"none\" stroke=\"black\" d=\"M171.45,-275.32C201.12,-263.93 235.57,-250.7 265.38,-239.25\"/>\r\n<polygon fill=\"black\" stroke=\"black\" points=\"266.81,-242.46 274.89,-235.6 264.3,-235.92 266.81,-242.46\"/>\r\n<text text-anchor=\"middle\" x=\"252.05\" y=\"-221.74\" font-family=\"Times New Roman,serif\" font-size=\"14.00\">False</text>\r\n</g>\r\n<!-- 2 -->\r\n<g id=\"node3\" class=\"node\">\r\n<title>2</title>\r\n<polygon fill=\"#f0b68d\" stroke=\"black\" points=\"659.17,-486.5 540.17,-486.5 540.17,-418.5 659.17,-418.5 659.17,-486.5\"/>\r\n<text text-anchor=\"start\" x=\"548.17\" y=\"-471.3\" font-family=\"Times New Roman,serif\" font-size=\"14.00\">ModelID ≤ 4573.0</text>\r\n<text text-anchor=\"start\" x=\"564.67\" y=\"-456.3\" font-family=\"Times New Roman,serif\" font-size=\"14.00\">mse = 0.331</text>\r\n<text text-anchor=\"start\" x=\"555.67\" y=\"-441.3\" font-family=\"Times New Roman,serif\" font-size=\"14.00\">samples = 4400</text>\r\n<text text-anchor=\"start\" x=\"561.67\" y=\"-426.3\" font-family=\"Times New Roman,serif\" font-size=\"14.00\">value = 9.955</text>\r\n</g>\r\n<!-- 1&#45;&gt;2 -->\r\n<g id=\"edge2\" class=\"edge\">\r\n<title>1&#45;&gt;2</title>\r\n<path fill=\"none\" stroke=\"black\" d=\"M394.28,-362.54C434.1,-380.06 488.31,-403.93 530.9,-422.67\"/>\r\n<polygon fill=\"black\" stroke=\"black\" points=\"529.51,-425.89 540.08,-426.71 532.33,-419.48 529.51,-425.89\"/>\r\n</g>\r\n<!-- 5 -->\r\n<g id=\"node6\" class=\"node\">\r\n<title>5</title>\r\n<polygon fill=\"#e99254\" stroke=\"black\" points=\"655.17,-372.5 544.17,-372.5 544.17,-304.5 655.17,-304.5 655.17,-372.5\"/>\r\n<text text-anchor=\"start\" x=\"555.67\" y=\"-357.3\" font-family=\"Times New Roman,serif\" font-size=\"14.00\">Enclosure ≤ 4.5</text>\r\n<text text-anchor=\"start\" x=\"568.17\" y=\"-342.3\" font-family=\"Times New Roman,serif\" font-size=\"14.00\">mse = 0.37</text>\r\n<text text-anchor=\"start\" x=\"552.17\" y=\"-327.3\" font-family=\"Times New Roman,serif\" font-size=\"14.00\">samples = 12415</text>\r\n<text text-anchor=\"start\" x=\"558.67\" y=\"-312.3\" font-family=\"Times New Roman,serif\" font-size=\"14.00\">value = 10.484</text>\r\n</g>\r\n<!-- 1&#45;&gt;5 -->\r\n<g id=\"edge5\" class=\"edge\">\r\n<title>1&#45;&gt;5</title>\r\n<path fill=\"none\" stroke=\"black\" d=\"M394.28,-338.5C435.08,-338.5 491.01,-338.5 534.04,-338.5\"/>\r\n<polygon fill=\"black\" stroke=\"black\" points=\"534.13,-342 544.13,-338.5 534.13,-335 534.13,-342\"/>\r\n</g>\r\n<!-- 3 -->\r\n<g id=\"node4\" class=\"node\">\r\n<title>3</title>\r\n<polygon fill=\"#eca470\" stroke=\"black\" points=\"895.67,-550 791.67,-550 791.67,-497 895.67,-497 895.67,-550\"/>\r\n<text text-anchor=\"start\" x=\"808.67\" y=\"-534.8\" font-family=\"Times New Roman,serif\" font-size=\"14.00\">mse = 0.315</text>\r\n<text text-anchor=\"start\" x=\"799.67\" y=\"-519.8\" font-family=\"Times New Roman,serif\" font-size=\"14.00\">samples = 2002</text>\r\n<text text-anchor=\"start\" x=\"802.67\" y=\"-504.8\" font-family=\"Times New Roman,serif\" font-size=\"14.00\">value = 10.226</text>\r\n</g>\r\n<!-- 2&#45;&gt;3 -->\r\n<g id=\"edge3\" class=\"edge\">\r\n<title>2&#45;&gt;3</title>\r\n<path fill=\"none\" stroke=\"black\" d=\"M659.25,-469.69C696.36,-480.57 744.26,-494.63 781.8,-505.64\"/>\r\n<polygon fill=\"black\" stroke=\"black\" points=\"781.02,-509.06 791.6,-508.52 782.99,-502.34 781.02,-509.06\"/>\r\n</g>\r\n<!-- 4 -->\r\n<g id=\"node5\" class=\"node\">\r\n<title>4</title>\r\n<polygon fill=\"#f3c6a5\" stroke=\"black\" points=\"895.67,-479 791.67,-479 791.67,-426 895.67,-426 895.67,-479\"/>\r\n<text text-anchor=\"start\" x=\"808.67\" y=\"-463.8\" font-family=\"Times New Roman,serif\" font-size=\"14.00\">mse = 0.232</text>\r\n<text text-anchor=\"start\" x=\"799.67\" y=\"-448.8\" font-family=\"Times New Roman,serif\" font-size=\"14.00\">samples = 2398</text>\r\n<text text-anchor=\"start\" x=\"805.67\" y=\"-433.8\" font-family=\"Times New Roman,serif\" font-size=\"14.00\">value = 9.728</text>\r\n</g>\r\n<!-- 2&#45;&gt;4 -->\r\n<g id=\"edge4\" class=\"edge\">\r\n<title>2&#45;&gt;4</title>\r\n<path fill=\"none\" stroke=\"black\" d=\"M659.25,-452.5C696.2,-452.5 743.85,-452.5 781.32,-452.5\"/>\r\n<polygon fill=\"black\" stroke=\"black\" points=\"781.6,-456 791.6,-452.5 781.6,-449 781.6,-456\"/>\r\n</g>\r\n<!-- 6 -->\r\n<g id=\"node7\" class=\"node\">\r\n<title>6</title>\r\n<polygon fill=\"#e58139\" stroke=\"black\" points=\"895.67,-408 791.67,-408 791.67,-355 895.67,-355 895.67,-408\"/>\r\n<text text-anchor=\"start\" x=\"812.17\" y=\"-392.8\" font-family=\"Times New Roman,serif\" font-size=\"14.00\">mse = 0.29</text>\r\n<text text-anchor=\"start\" x=\"799.67\" y=\"-377.8\" font-family=\"Times New Roman,serif\" font-size=\"14.00\">samples = 7193</text>\r\n<text text-anchor=\"start\" x=\"802.67\" y=\"-362.8\" font-family=\"Times New Roman,serif\" font-size=\"14.00\">value = 10.736</text>\r\n</g>\r\n<!-- 5&#45;&gt;6 -->\r\n<g id=\"edge6\" class=\"edge\">\r\n<title>5&#45;&gt;6</title>\r\n<path fill=\"none\" stroke=\"black\" d=\"M655.28,-348.2C692.77,-354.87 742.59,-363.72 781.43,-370.62\"/>\r\n<polygon fill=\"black\" stroke=\"black\" points=\"781.1,-374.12 791.56,-372.42 782.33,-367.22 781.1,-374.12\"/>\r\n</g>\r\n<!-- 7 -->\r\n<g id=\"node8\" class=\"node\">\r\n<title>7</title>\r\n<polygon fill=\"#edaa79\" stroke=\"black\" points=\"895.67,-337 791.67,-337 791.67,-284 895.67,-284 895.67,-337\"/>\r\n<text text-anchor=\"start\" x=\"808.67\" y=\"-321.8\" font-family=\"Times New Roman,serif\" font-size=\"14.00\">mse = 0.272</text>\r\n<text text-anchor=\"start\" x=\"799.67\" y=\"-306.8\" font-family=\"Times New Roman,serif\" font-size=\"14.00\">samples = 5222</text>\r\n<text text-anchor=\"start\" x=\"802.67\" y=\"-291.8\" font-family=\"Times New Roman,serif\" font-size=\"14.00\">value = 10.137</text>\r\n</g>\r\n<!-- 5&#45;&gt;7 -->\r\n<g id=\"edge7\" class=\"edge\">\r\n<title>5&#45;&gt;7</title>\r\n<path fill=\"none\" stroke=\"black\" d=\"M655.28,-332.18C692.77,-327.84 742.59,-322.08 781.43,-317.59\"/>\r\n<polygon fill=\"black\" stroke=\"black\" points=\"782.03,-321.04 791.56,-316.41 781.23,-314.09 782.03,-321.04\"/>\r\n</g>\r\n<!-- 9 -->\r\n<g id=\"node10\" class=\"node\">\r\n<title>9</title>\r\n<polygon fill=\"#fef9f5\" stroke=\"black\" points=\"683.17,-245.5 516.17,-245.5 516.17,-177.5 683.17,-177.5 683.17,-245.5\"/>\r\n<text text-anchor=\"start\" x=\"524.17\" y=\"-230.3\" font-family=\"Times New Roman,serif\" font-size=\"14.00\">fiProductClassDesc ≤ 40.5</text>\r\n<text text-anchor=\"start\" x=\"564.67\" y=\"-215.3\" font-family=\"Times New Roman,serif\" font-size=\"14.00\">mse = 0.101</text>\r\n<text text-anchor=\"start\" x=\"558.67\" y=\"-200.3\" font-family=\"Times New Roman,serif\" font-size=\"14.00\">samples = 468</text>\r\n<text text-anchor=\"start\" x=\"561.67\" y=\"-185.3\" font-family=\"Times New Roman,serif\" font-size=\"14.00\">value = 8.988</text>\r\n</g>\r\n<!-- 8&#45;&gt;9 -->\r\n<g id=\"edge9\" class=\"edge\">\r\n<title>8&#45;&gt;9</title>\r\n<path fill=\"none\" stroke=\"black\" d=\"M402.36,-211.5C433.43,-211.5 471.56,-211.5 505.93,-211.5\"/>\r\n<polygon fill=\"black\" stroke=\"black\" points=\"505.98,-215 515.98,-211.5 505.98,-208 505.98,-215\"/>\r\n</g>\r\n<!-- 12 -->\r\n<g id=\"node13\" class=\"node\">\r\n<title>12</title>\r\n<polygon fill=\"#f7dbc6\" stroke=\"black\" points=\"687.17,-131.5 512.17,-131.5 512.17,-63.5 687.17,-63.5 687.17,-131.5\"/>\r\n<text text-anchor=\"start\" x=\"520.17\" y=\"-116.3\" font-family=\"Times New Roman,serif\" font-size=\"14.00\">saleElapsed ≤ 1217462400.0</text>\r\n<text text-anchor=\"start\" x=\"564.67\" y=\"-101.3\" font-family=\"Times New Roman,serif\" font-size=\"14.00\">mse = 0.082</text>\r\n<text text-anchor=\"start\" x=\"555.67\" y=\"-86.3\" font-family=\"Times New Roman,serif\" font-size=\"14.00\">samples = 2717</text>\r\n<text text-anchor=\"start\" x=\"561.67\" y=\"-71.3\" font-family=\"Times New Roman,serif\" font-size=\"14.00\">value = 9.427</text>\r\n</g>\r\n<!-- 8&#45;&gt;12 -->\r\n<g id=\"edge12\" class=\"edge\">\r\n<title>8&#45;&gt;12</title>\r\n<path fill=\"none\" stroke=\"black\" d=\"M402.36,-183.9C435.21,-169.45 475.95,-151.51 511.79,-135.74\"/>\r\n<polygon fill=\"black\" stroke=\"black\" points=\"513.53,-138.8 521.27,-131.57 510.71,-132.39 513.53,-138.8\"/>\r\n</g>\r\n<!-- 10 -->\r\n<g id=\"node11\" class=\"node\">\r\n<title>10</title>\r\n<polygon fill=\"#ffffff\" stroke=\"black\" points=\"892.67,-266 794.67,-266 794.67,-213 892.67,-213 892.67,-266\"/>\r\n<text text-anchor=\"start\" x=\"808.67\" y=\"-250.8\" font-family=\"Times New Roman,serif\" font-size=\"14.00\">mse = 0.069</text>\r\n<text text-anchor=\"start\" x=\"802.67\" y=\"-235.8\" font-family=\"Times New Roman,serif\" font-size=\"14.00\">samples = 293</text>\r\n<text text-anchor=\"start\" x=\"805.67\" y=\"-220.8\" font-family=\"Times New Roman,serif\" font-size=\"14.00\">value = 8.896</text>\r\n</g>\r\n<!-- 9&#45;&gt;10 -->\r\n<g id=\"edge10\" class=\"edge\">\r\n<title>9&#45;&gt;10</title>\r\n<path fill=\"none\" stroke=\"black\" d=\"M683.27,-221.06C716.61,-224.91 754.29,-229.27 784.64,-232.79\"/>\r\n<polygon fill=\"black\" stroke=\"black\" points=\"784.29,-236.27 794.63,-233.94 785.1,-229.32 784.29,-236.27\"/>\r\n</g>\r\n<!-- 11 -->\r\n<g id=\"node12\" class=\"node\">\r\n<title>11</title>\r\n<polygon fill=\"#fceee4\" stroke=\"black\" points=\"892.67,-195 794.67,-195 794.67,-142 892.67,-142 892.67,-195\"/>\r\n<text text-anchor=\"start\" x=\"808.67\" y=\"-179.8\" font-family=\"Times New Roman,serif\" font-size=\"14.00\">mse = 0.118</text>\r\n<text text-anchor=\"start\" x=\"802.67\" y=\"-164.8\" font-family=\"Times New Roman,serif\" font-size=\"14.00\">samples = 175</text>\r\n<text text-anchor=\"start\" x=\"805.67\" y=\"-149.8\" font-family=\"Times New Roman,serif\" font-size=\"14.00\">value = 9.143</text>\r\n</g>\r\n<!-- 9&#45;&gt;11 -->\r\n<g id=\"edge11\" class=\"edge\">\r\n<title>9&#45;&gt;11</title>\r\n<path fill=\"none\" stroke=\"black\" d=\"M683.27,-196.82C716.61,-190.9 754.29,-184.2 784.64,-178.81\"/>\r\n<polygon fill=\"black\" stroke=\"black\" points=\"785.4,-182.23 794.63,-177.04 784.17,-175.34 785.4,-182.23\"/>\r\n</g>\r\n<!-- 13 -->\r\n<g id=\"node14\" class=\"node\">\r\n<title>13</title>\r\n<polygon fill=\"#f6d4bb\" stroke=\"black\" points=\"895.67,-124 791.67,-124 791.67,-71 895.67,-71 895.67,-124\"/>\r\n<text text-anchor=\"start\" x=\"808.67\" y=\"-108.8\" font-family=\"Times New Roman,serif\" font-size=\"14.00\">mse = 0.062</text>\r\n<text text-anchor=\"start\" x=\"799.67\" y=\"-93.8\" font-family=\"Times New Roman,serif\" font-size=\"14.00\">samples = 1347</text>\r\n<text text-anchor=\"start\" x=\"805.67\" y=\"-78.8\" font-family=\"Times New Roman,serif\" font-size=\"14.00\">value = 9.529</text>\r\n</g>\r\n<!-- 12&#45;&gt;13 -->\r\n<g id=\"edge13\" class=\"edge\">\r\n<title>12&#45;&gt;13</title>\r\n<path fill=\"none\" stroke=\"black\" d=\"M687.35,-97.5C718.39,-97.5 752.72,-97.5 781.19,-97.5\"/>\r\n<polygon fill=\"black\" stroke=\"black\" points=\"781.4,-101 791.4,-97.5 781.4,-94 781.4,-101\"/>\r\n</g>\r\n<!-- 14 -->\r\n<g id=\"node15\" class=\"node\">\r\n<title>14</title>\r\n<polygon fill=\"#f9e1d1\" stroke=\"black\" points=\"895.67,-53 791.67,-53 791.67,0 895.67,0 895.67,-53\"/>\r\n<text text-anchor=\"start\" x=\"808.67\" y=\"-37.8\" font-family=\"Times New Roman,serif\" font-size=\"14.00\">mse = 0.081</text>\r\n<text text-anchor=\"start\" x=\"799.67\" y=\"-22.8\" font-family=\"Times New Roman,serif\" font-size=\"14.00\">samples = 1370</text>\r\n<text text-anchor=\"start\" x=\"805.67\" y=\"-7.8\" font-family=\"Times New Roman,serif\" font-size=\"14.00\">value = 9.328</text>\r\n</g>\r\n<!-- 12&#45;&gt;14 -->\r\n<g id=\"edge14\" class=\"edge\">\r\n<title>12&#45;&gt;14</title>\r\n<path fill=\"none\" stroke=\"black\" d=\"M687.35,-72.07C718.53,-62.92 753.02,-52.8 781.57,-44.43\"/>\r\n<polygon fill=\"black\" stroke=\"black\" points=\"782.79,-47.71 791.4,-41.54 780.82,-41 782.79,-47.71\"/>\r\n</g>\r\n</g>\r\n</svg>\r\n"
     },
     "metadata": {}
    }
   ],
   "source": [
    "draw_tree(m.estimators_[0], df_trn,precision=3)"
   ]
  },
  {
   "cell_type": "code",
   "execution_count": null,
   "metadata": {},
   "outputs": [],
   "source": []
  }
 ]
}